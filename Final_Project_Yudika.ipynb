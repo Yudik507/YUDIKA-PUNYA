{
  "nbformat": 4,
  "nbformat_minor": 0,
  "metadata": {
    "colab": {
      "provenance": [],
      "authorship_tag": "ABX9TyOacIixhIh1E4tiUsM9w0eR",
      "include_colab_link": true
    },
    "kernelspec": {
      "name": "python3",
      "display_name": "Python 3"
    },
    "language_info": {
      "name": "python"
    }
  },
  "cells": [
    {
      "cell_type": "markdown",
      "metadata": {
        "id": "view-in-github",
        "colab_type": "text"
      },
      "source": [
        "<a href=\"https://colab.research.google.com/github/Yudik507/YUDIKA-PUNYA/blob/main/Final_Project_Yudika.ipynb\" target=\"_parent\"><img src=\"https://colab.research.google.com/assets/colab-badge.svg\" alt=\"Open In Colab\"/></a>"
      ]
    },
    {
      "cell_type": "code",
      "source": [
        "def menu():\n",
        "    print(\"\\nMenu Pilihan:\")\n",
        "    print(\"1. Tambah Data Siswa\")\n",
        "    print(\"2. Tampilkan Semua Data Siswa\")\n",
        "    print(\"3. Cari Siswa Berdasarkan NIM\")\n",
        "    print(\"4. Hitung Rata-rata Nilai\")\n",
        "    print(\"5. Keluar\")\n",
        "\n",
        "def tambah_data_siswa(siswa_list):\n",
        "    nama = input(\"Masukkan Nama Siswa: \")\n",
        "    nim = input(\"Masukkan NIM Siswa: \")\n",
        "    jurusan = input(\"Masukkan Jurusan Siswa: \")\n",
        "    nilai = float(input(\"Masukkan Nilai Siswa: \"))\n",
        "\n",
        "    siswa = {\n",
        "        'nama': nama,\n",
        "        'nim': nim,\n",
        "        'jurusan': jurusan,\n",
        "        'nilai': nilai\n",
        "    }\n",
        "\n",
        "    siswa_list.append(siswa)\n",
        "    print(\"Data siswa berhasil ditambahkan.\")\n",
        "\n",
        "def tampilkan_semua_data(siswa_list):\n",
        "    if not siswa_list:\n",
        "        print(\"Tidak ada data siswa yang tersedia.\")\n",
        "        return\n",
        "\n",
        "    print(\"\\nData Siswa:\")\n",
        "    for siswa in siswa_list:\n",
        "        print(f\"Nama: {siswa['nama']}, NIM: {siswa['nim']}, Jurusan: {siswa['jurusan']}, Nilai: {siswa['nilai']}\")\n",
        "\n",
        "def cari_siswa(siswa_list):\n",
        "    nim_cari = input(\"Masukkan NIM yang dicari: \")\n",
        "    for siswa in siswa_list:\n",
        "        if siswa['nim'] == nim_cari:\n",
        "            print(f\"Nama: {siswa['nama']}, NIM: {siswa['nim']}, Jurusan: {siswa['jurusan']}, Nilai: {siswa['nilai']}\")\n",
        "            return\n",
        "    print(\"Siswa dengan NIM tersebut tidak ditemukan.\")\n",
        "\n",
        "def hitung_rata_rata(siswa_list):\n",
        "    if not siswa_list:\n",
        "        print(\"Tidak ada data siswa untuk menghitung rata-rata.\")\n",
        "        return\n",
        "\n",
        "    total_nilai = sum(siswa['nilai'] for siswa in siswa_list)\n",
        "    rata_rata = total_nilai / len(siswa_list)\n",
        "    print(f\"Rata-rata nilai siswa adalah: {rata_rata:.2f}\")\n",
        "\n",
        "def main():\n",
        "    siswa_list = []\n",
        "\n",
        "    while True:\n",
        "        menu()\n",
        "        pilihan = input(\"Pilih menu (1-5): \")\n",
        "\n",
        "        if pilihan == '1':\n",
        "            tambah_data_siswa(siswa_list)\n",
        "        elif pilihan == '2':\n",
        "            tampilkan_semua_data(siswa_list)\n",
        "        elif pilihan == '3':\n",
        "            cari_siswa(siswa_list)\n",
        "        elif pilihan == '4':\n",
        "            hitung_rata_rata(siswa_list)\n",
        "        elif pilihan == '5':\n",
        "            print(\"Terima kasih! Program selesai.\")\n",
        "            break\n",
        "        else:\n",
        "            print(\"Pilihan tidak valid. Silakan coba lagi.\")\n",
        "\n",
        "if __name__ == \"__main__\":\n",
        "    main()"
      ],
      "metadata": {
        "colab": {
          "base_uri": "https://localhost:8080/"
        },
        "id": "11nSXkDtlYh6",
        "outputId": "6a5e242d-0ed2-48e6-ccb4-7e509b982d16"
      },
      "execution_count": null,
      "outputs": [
        {
          "output_type": "stream",
          "name": "stdout",
          "text": [
            "\n",
            "Menu Pilihan:\n",
            "1. Tambah Data Siswa\n",
            "2. Tampilkan Semua Data Siswa\n",
            "3. Cari Siswa Berdasarkan NIM\n",
            "4. Hitung Rata-rata Nilai\n",
            "5. Keluar\n"
          ]
        }
      ]
    },
    {
      "cell_type": "code",
      "execution_count": null,
      "metadata": {
        "id": "RD1vFk4ziAWX"
      },
      "outputs": [],
      "source": []
    },
    {
      "cell_type": "code",
      "source": [],
      "metadata": {
        "id": "5dTtGugGmXZ-"
      },
      "execution_count": null,
      "outputs": []
    }
  ]
}