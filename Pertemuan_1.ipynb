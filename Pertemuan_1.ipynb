{
  "nbformat": 4,
  "nbformat_minor": 0,
  "metadata": {
    "colab": {
      "provenance": [],
      "include_colab_link": true
    },
    "kernelspec": {
      "name": "python3",
      "display_name": "Python 3"
    },
    "language_info": {
      "name": "python"
    }
  },
  "cells": [
    {
      "cell_type": "markdown",
      "metadata": {
        "id": "view-in-github",
        "colab_type": "text"
      },
      "source": [
        "<a href=\"https://colab.research.google.com/github/Yudik507/YUDIKA-PUNYA/blob/main/Pertemuan_1.ipynb\" target=\"_parent\"><img src=\"https://colab.research.google.com/assets/colab-badge.svg\" alt=\"Open In Colab\"/></a>"
      ]
    },
    {
      "cell_type": "markdown",
      "source": [
        "# Alur Program python"
      ],
      "metadata": {
        "id": "0Ycqqwb90Z4n"
      }
    },
    {
      "cell_type": "code",
      "source": [
        "print(\"Hello\")\n",
        "print(\"World\")\n",
        "print(\"Hello World\")\n",
        "\n",
        "print(\"Halo Mahasiswa Informatika\")\n",
        "# ini adalah comment\n",
        "a = 10 # ini adalah comment juga\n",
        "\"\"\"ada apa dengan\n",
        "ucup dan otong si ganteng\n",
        "dalam comment multiline\"\"\"\n",
        "print(a)\n"
      ],
      "metadata": {
        "colab": {
          "base_uri": "https://localhost:8080/"
        },
        "id": "6L8pFbBh0bq_",
        "outputId": "335104c6-aa8f-4244-ea7f-21945abf4e60"
      },
      "execution_count": null,
      "outputs": [
        {
          "output_type": "stream",
          "name": "stdout",
          "text": [
            "Hello\n",
            "World\n",
            "Hello World\n",
            "Halo Mahasiswa Informatika\n",
            "10\n"
          ]
        }
      ]
    },
    {
      "cell_type": "code",
      "source": [
        "print(\"Hello World\")"
      ],
      "metadata": {
        "colab": {
          "base_uri": "https://localhost:8080/"
        },
        "id": "8TmQI7ALEP0r",
        "outputId": "065d674b-d23c-462f-b2a7-dc8c338c23ea"
      },
      "execution_count": null,
      "outputs": [
        {
          "output_type": "stream",
          "name": "stdout",
          "text": [
            "Hello World\n"
          ]
        }
      ]
    },
    {
      "cell_type": "code",
      "source": [
        "#hari saya pake baju item"
      ],
      "metadata": {
        "id": "WR1d3t4UGCjG"
      },
      "execution_count": null,
      "outputs": []
    },
    {
      "cell_type": "code",
      "source": [
        "print(\"\"\"\n",
        "Print helo\n",
        "wordl\n",
        "\"\"\")"
      ],
      "metadata": {
        "colab": {
          "base_uri": "https://localhost:8080/"
        },
        "id": "BWQX8vfuGL9M",
        "outputId": "b091776d-a6e0-4953-c347-dff4db457eaf"
      },
      "execution_count": null,
      "outputs": [
        {
          "output_type": "stream",
          "name": "stdout",
          "text": [
            "\n",
            "Print helo\n",
            "wordl\n",
            "\n"
          ]
        }
      ]
    },
    {
      "cell_type": "code",
      "source": [
        "print(\"\\n halo \\n dunia\")"
      ],
      "metadata": {
        "colab": {
          "base_uri": "https://localhost:8080/"
        },
        "id": "bc95FAu-Glg9",
        "outputId": "7979b578-5286-417b-be0a-e2a53181baa6"
      },
      "execution_count": null,
      "outputs": [
        {
          "output_type": "stream",
          "name": "stdout",
          "text": [
            "\n",
            " halo \n",
            " dunia\n"
          ]
        }
      ]
    },
    {
      "cell_type": "code",
      "source": [
        "a=\"Tuang kopi\"\n",
        "\n",
        "print(a)"
      ],
      "metadata": {
        "colab": {
          "base_uri": "https://localhost:8080/"
        },
        "id": "FVOG9bgxG3W0",
        "outputId": "f038f20c-0a18-44fd-c21f-2fefe56e06ab"
      },
      "execution_count": null,
      "outputs": [
        {
          "output_type": "stream",
          "name": "stdout",
          "text": [
            "Tuang kopi\n"
          ]
        }
      ]
    },
    {
      "cell_type": "markdown",
      "source": [],
      "metadata": {
        "id": "GMGq492bEV7A"
      }
    },
    {
      "cell_type": "code",
      "source": [
        "# Kode di luar alur pemrograman Python (tidak dieksekusi)\n",
        "\n",
        "# Contoh 1: Teks biasa\n",
        "# Ini hanyalah teks biasa, bukan kode Python yang valid.\n",
        "# Tidak ada interpreter python yang akan menjalankan baris ini.\n",
        "\n",
        "# Contoh 2: HTML\n",
        "# <p>Ini adalah tag HTML paragraf.</p>\n",
        "# <a href=\"https://www.example.com\">Link ke example.com</a>\n",
        "# Ini juga tidak akan dieksekusi oleh interpreter python.\n",
        "\n",
        "# Contoh 3: Javascript\n",
        "# console.log(\"Hello from Javascript\");\n",
        "# Ini kode javascript yang tidak akan jalan di python.\n",
        "\n",
        "# Contoh 5: Markdown\n",
        "# # Heading 1\n",
        "# * Bullet Point 1\n",
        "# * Bullet Point 2\n",
        "# Markdown digunakan untuk formatting teks, bukan untuk eksekusi oleh python interpreter."
      ],
      "metadata": {
        "id": "DIRnM9Ls1Ah4"
      },
      "execution_count": null,
      "outputs": []
    },
    {
      "cell_type": "markdown",
      "source": [
        "# Variabel\n",
        "\n",
        "\n",
        "\n"
      ],
      "metadata": {
        "id": "tuls62BJuJy2"
      }
    },
    {
      "cell_type": "code",
      "source": [
        "nama = \"Agus Sutejo\"\n",
        "umur = 30\n",
        "tinggi = 1.75\n",
        "menikah = True\n",
        "hobi = \"Membaca\", \"Mendengarkan musik\", \"Berenang\"\n",
        "\n",
        "# Menampilkan nilai variabel\n",
        "print(\"Nama:\", nama)\n",
        "print(\"Umur:\", umur)\n",
        "print(\"Tinggi:\", tinggi)\n",
        "print(\"Menikah:\", menikah)\n",
        "print(\"Hobi:\", hobi)\n"
      ],
      "metadata": {
        "colab": {
          "base_uri": "https://localhost:8080/"
        },
        "id": "p0dEawvbuMQ-",
        "outputId": "2820c38b-d1f3-4574-ad3b-2d18a2d922bb"
      },
      "execution_count": null,
      "outputs": [
        {
          "output_type": "stream",
          "name": "stdout",
          "text": [
            "Nama: Agus Sutejo\n",
            "Umur: 30\n",
            "Tinggi: 1.75\n",
            "Menikah: True\n",
            "Hobi: ('Membaca', 'Mendengarkan musik', 'Berenang')\n"
          ]
        }
      ]
    },
    {
      "cell_type": "code",
      "source": [
        "# menaru / assignment nilai\n",
        "a = 10\n",
        "x = 5\n",
        "panjang = 1000\n",
        "\n",
        "# pemanggilan pertama\n",
        "print(\"Nilai a = \", a)\n",
        "print(\"Nilai x = \", x)\n",
        "print(\"Nilai panjang = \", panjang)\n",
        "\n",
        "# penamaan\n",
        "nilai_y = 15 # dengan menggunakan underscore\n",
        "juta10 = 10000000 # ini boleh\n",
        "nilaiZ = 17.5 # ini boleh\n",
        "\n",
        "# pemanggilan kedua\n",
        "print(\"Nilai a = \", a)\n",
        "a = 7\n",
        "print(\"Nilai a = \", a)\n",
        "\n",
        "# assignment indirect\n",
        "b = a\n",
        "print(\"Nilai b = \", b)"
      ],
      "metadata": {
        "colab": {
          "base_uri": "https://localhost:8080/"
        },
        "id": "aNMMcJhF1mJJ",
        "outputId": "9957100c-d41f-478b-ec82-92394a4ede11"
      },
      "execution_count": null,
      "outputs": [
        {
          "output_type": "stream",
          "name": "stdout",
          "text": [
            "Nilai a =  10\n",
            "Nilai x =  5\n",
            "Nilai panjang =  1000\n",
            "Nilai a =  10\n",
            "Nilai a =  7\n",
            "Nilai b =  7\n"
          ]
        }
      ]
    },
    {
      "cell_type": "code",
      "source": [
        "buah_berbiji=\"rambutan\"\n",
        "\n",
        "print(buah_berbiji)"
      ],
      "metadata": {
        "colab": {
          "base_uri": "https://localhost:8080/"
        },
        "id": "4TkAix3eHNGn",
        "outputId": "e4b282d3-f2d7-41bb-ce20-04c4163cadba"
      },
      "execution_count": null,
      "outputs": [
        {
          "output_type": "stream",
          "name": "stdout",
          "text": [
            "rambutan\n"
          ]
        }
      ]
    },
    {
      "cell_type": "code",
      "source": [
        "buah_berbiji=\"semangka\"\n",
        "print(buah_berbiji)"
      ],
      "metadata": {
        "colab": {
          "base_uri": "https://localhost:8080/"
        },
        "id": "Z-QGVScmHjdt",
        "outputId": "a7510bd6-89f0-466c-dc7f-431e954c86a7"
      },
      "execution_count": null,
      "outputs": [
        {
          "output_type": "stream",
          "name": "stdout",
          "text": [
            "semangka\n"
          ]
        }
      ]
    },
    {
      "cell_type": "code",
      "source": [
        "jenis_celana=\"celana panjang\"\n",
        "print(\"Saya Suka Memakai \" ,jenis_celana)"
      ],
      "metadata": {
        "colab": {
          "base_uri": "https://localhost:8080/"
        },
        "id": "ATGaVfwKH5Iz",
        "outputId": "a4cd20f1-350b-4dc8-b805-179d3eac996f"
      },
      "execution_count": null,
      "outputs": [
        {
          "output_type": "stream",
          "name": "stdout",
          "text": [
            "Saya Suka Memakai  celana panjang\n"
          ]
        }
      ]
    },
    {
      "cell_type": "markdown",
      "source": [
        "# Tipe Data Python"
      ],
      "metadata": {
        "id": "VqZlsoQKu-pG"
      }
    },
    {
      "cell_type": "markdown",
      "source": [
        "NUMERIK"
      ],
      "metadata": {
        "id": "nSYHUsth3rMn"
      }
    },
    {
      "cell_type": "code",
      "source": [
        "# 1. Integer (bilangan bulat)\n",
        "umur_integer = 25\n",
        "print(\"Integer:\", umur_integer, type(umur_integer))\n",
        "\n",
        "angka_bulat_besar = 10000000000000000000000000000000\n",
        "print(\"Angka bulat besar:\", angka_bulat_besar, type(angka_bulat_besar))\n",
        "\n",
        "angka_negatif = -5\n",
        "print(\"Angka negatif:\", angka_negatif, type(angka_negatif))\n",
        "\n",
        "#2. Float (bilangan desimal)\n",
        "tinggi_float = 1.78\n",
        "print(\"Float:\", tinggi_float, type(tinggi_float))\n",
        "\n",
        "berat_badan = 65.5\n",
        "print(\"Berat badan:\", berat_badan, type(berat_badan))\n",
        "\n",
        "phi = 3.14159265359\n",
        "print(\"Phi:\", phi, type(phi))\n",
        "\n",
        "# 3. Complex (bilangan kompleks)\n",
        "bilangan_kompleks = 2 + 3j\n",
        "print(\"Complex:\", bilangan_kompleks, type(bilangan_kompleks))\n",
        "\n",
        "bilangan_kompleks_lain = -1 - 2j\n",
        "print(\"Complex lain:\", bilangan_kompleks_lain, type(bilangan_kompleks_lain))\n",
        "\n",
        "# Akses real dan imaginary part\n",
        "print(\"Real part:\", bilangan_kompleks.real)\n",
        "print(\"Imaginary part:\", bilangan_kompleks.imag)"
      ],
      "metadata": {
        "colab": {
          "base_uri": "https://localhost:8080/"
        },
        "id": "ocqhfRCx3tTa",
        "outputId": "604cdf7e-3af4-4982-f407-0700f138c8d5"
      },
      "execution_count": null,
      "outputs": [
        {
          "output_type": "stream",
          "name": "stdout",
          "text": [
            "Integer: 25 <class 'int'>\n",
            "Angka bulat besar: 10000000000000000000000000000000 <class 'int'>\n",
            "Angka negatif: -5 <class 'int'>\n",
            "Float: 1.78 <class 'float'>\n",
            "Berat badan: 65.5 <class 'float'>\n",
            "Phi: 3.14159265359 <class 'float'>\n",
            "Complex: (2+3j) <class 'complex'>\n",
            "Complex lain: (-1-2j) <class 'complex'>\n",
            "Real part: 2.0\n",
            "Imaginary part: 3.0\n"
          ]
        }
      ]
    },
    {
      "cell_type": "code",
      "source": [
        "angka_baru= 45\n",
        "print(angka_baru)"
      ],
      "metadata": {
        "colab": {
          "base_uri": "https://localhost:8080/"
        },
        "id": "2NtFGWM_Ib1o",
        "outputId": "174d8838-8432-49f8-d334-2fb9acfea28d"
      },
      "execution_count": null,
      "outputs": [
        {
          "output_type": "stream",
          "name": "stdout",
          "text": [
            "45\n"
          ]
        }
      ]
    },
    {
      "cell_type": "code",
      "source": [
        "angka_baru= 40\n",
        "print(\"Integer:\", angka_baru, type(angka_baru))"
      ],
      "metadata": {
        "colab": {
          "base_uri": "https://localhost:8080/"
        },
        "id": "-Zz6pXwQIpFI",
        "outputId": "2ec06e36-976a-4905-d0a0-cee8ead41dd8"
      },
      "execution_count": null,
      "outputs": [
        {
          "output_type": "stream",
          "name": "stdout",
          "text": [
            "Integer: 40 <class 'int'>\n"
          ]
        }
      ]
    },
    {
      "cell_type": "code",
      "source": [
        "pi_lingkaran= 3.14\n",
        "print(\"angka ini \" , pi_lingkaran, type(pi_lingkaran))"
      ],
      "metadata": {
        "colab": {
          "base_uri": "https://localhost:8080/"
        },
        "id": "a0iPTX3_JVPm",
        "outputId": "bd3c0382-6b8e-49cb-bb49-26f3536f24e5"
      },
      "execution_count": null,
      "outputs": [
        {
          "output_type": "stream",
          "name": "stdout",
          "text": [
            "angka ini  3.14 <class 'float'>\n"
          ]
        }
      ]
    },
    {
      "cell_type": "markdown",
      "source": [
        "URUTAN (SEQUENCE)"
      ],
      "metadata": {
        "id": "UzFE53ba4wVB"
      }
    },
    {
      "cell_type": "markdown",
      "source": [
        "1. String"
      ],
      "metadata": {
        "id": "lMCGx_6M6Cy7"
      }
    },
    {
      "cell_type": "code",
      "source": [
        "#1. String\n",
        "\n",
        "# String literal dapat didefinisikan dengan tanda kutip tunggal ('...') atau ganda (\"...\")\n",
        "nama = \"Budi Santoso\"\n",
        "alamat = 'Jl. Merdeka No. 10'\n",
        "\n",
        "print(\"Nama:\", nama, type(nama))\n",
        "print(\"Alamat:\", alamat, type(alamat))\n",
        "\n",
        "# String multiline menggunakan tiga tanda kutip tunggal ('''...''') atau ganda (\"\"\"...\"\"\")\n",
        "deskripsi = \"\"\"Ini adalah string\n",
        "multiline yang dapat\n",
        "mencakup beberapa baris.\"\"\"\n",
        "\n",
        "print(\"Deskripsi:\", deskripsi, type(deskripsi))\n",
        "\n",
        "# String formatting\n",
        "umur = 20\n",
        "nama = \"Andi\"\n",
        "kalimat_format = f\"Nama saya {nama} dan umur saya {umur} tahun.\"\n",
        "print(kalimat_format) # Output: Nama saya Andi dan umur saya 20 tahun."
      ],
      "metadata": {
        "colab": {
          "base_uri": "https://localhost:8080/"
        },
        "id": "w7-rbxta41kJ",
        "outputId": "ebe6ef73-d256-42ca-8f43-9d1a241b8045"
      },
      "execution_count": null,
      "outputs": [
        {
          "output_type": "stream",
          "name": "stdout",
          "text": [
            "Nama: Budi Santoso <class 'str'>\n",
            "Alamat: Jl. Merdeka No. 10 <class 'str'>\n",
            "Deskripsi: Ini adalah string\n",
            "multiline yang dapat\n",
            "mencakup beberapa baris. <class 'str'>\n",
            "Nama saya Andi dan umur saya 20 tahun.\n"
          ]
        }
      ]
    },
    {
      "cell_type": "code",
      "source": [
        "nama_orang=\"rafael\"\n",
        "print(nama_orang)"
      ],
      "metadata": {
        "id": "3qvILLKVKJ_c",
        "colab": {
          "base_uri": "https://localhost:8080/"
        },
        "outputId": "b37f43a6-16c1-4dbd-ab5f-41dead48015b"
      },
      "execution_count": null,
      "outputs": [
        {
          "output_type": "stream",
          "name": "stdout",
          "text": [
            "rafael\n"
          ]
        }
      ]
    },
    {
      "cell_type": "code",
      "source": [
        "nama=\"yudi\"\n",
        "umur=20\n",
        "jurusan=\"informatika\"\n",
        "nama\n",
        "print(f\"Nama saya {nama} usia saya {umur} saya kuliah jurusan {jurusan} \")\n",
        "print(f\"Nama Saya \" , umur)"
      ],
      "metadata": {
        "colab": {
          "base_uri": "https://localhost:8080/"
        },
        "id": "nExkBmhJLxd1",
        "outputId": "2c17b75a-f963-4375-dda2-b552873899eb"
      },
      "execution_count": null,
      "outputs": [
        {
          "output_type": "stream",
          "name": "stdout",
          "text": [
            "Nama saya yudi usia saya 20 saya kuliah jurusan informatika \n",
            "Nama Saya  20\n"
          ]
        }
      ]
    },
    {
      "cell_type": "markdown",
      "source": [
        "2. List"
      ],
      "metadata": {
        "id": "qm36-LXj6LFi"
      }
    },
    {
      "cell_type": "code",
      "source": [
        "# Contoh penggunaan list\n",
        "hobi = [\"Membaca\", \"Mendengarkan musik\", \"Berenang\"]\n",
        "\n",
        "# Mengakses elemen list\n",
        "print(\"Hobi pertama:\", hobi[0])  # Output: Membaca\n",
        "print(\"Hobi kedua:\", hobi[1])  # Output: Mendengarkan musik\n",
        "\n",
        "# Modifikasi elemen list (list bersifat mutable)\n",
        "hobi[0] = \"Menulis\"\n",
        "print(\"Hobi setelah dimodifikasi:\", hobi)  # Output: ['Menulis', 'Mendengarkan musik', 'Berenang']\n",
        "\n",
        "# Menambahkan elemen ke list\n",
        "hobi.append(\"Bersepeda\")\n",
        "print(\"Hobi setelah ditambahkan elemen:\", hobi)  # Output: ['Menulis', 'Mendengarkan musik', 'Berenang', 'Bersepeda']\n",
        "\n",
        "# Menghapus elemen dari list\n",
        "hobi.remove(\"Mendengarkan musik\")\n",
        "print(\"Hobi setelah dihapus elemen:\", hobi)  # Output: ['Menulis', 'Berenang', 'Bersepeda']\n",
        "\n",
        "# Menghapus elemen berdasarkan indeks\n",
        "del hobi[1]\n",
        "print(\"Hobi setelah dihapus elemen berdasarkan indeks:\", hobi) # Output: ['Menulis', 'Bersepeda']\n",
        "\n",
        "\n",
        "# Slicing list\n",
        "print(\"Dua hobi pertama:\", hobi[:2])  # Output: ['Menulis', 'Bersepeda']\n",
        "\n",
        "# Menggabungkan list\n",
        "hobi_lain = [\"Memasak\", \"Melukis\"]\n",
        "semua_hobi = hobi + hobi_lain\n",
        "print(\"Semua hobi:\", semua_hobi)  # Output: ['Menulis', 'Bersepeda', 'Memasak', 'Melukis']\n",
        "\n",
        "# Fungsi-fungsi built-in untuk list\n",
        "print(\"Panjang list:\", len(hobi))  # Output: 2\n",
        "print(\"Elemen terbesar:\", max(hobi)) # Output: Bersepeda (berdasarkan urutan alfabetis)\n",
        "print(\"Elemen terkecil:\", min(hobi))  # Output: Bersepeda (berdasarkan urutan alfabetis)"
      ],
      "metadata": {
        "colab": {
          "base_uri": "https://localhost:8080/"
        },
        "id": "WpnL0O_25fxY",
        "outputId": "49fb9848-8534-4233-f90b-b0aa35875cce"
      },
      "execution_count": null,
      "outputs": [
        {
          "output_type": "stream",
          "name": "stdout",
          "text": [
            "Hobi pertama: Membaca\n",
            "Hobi kedua: Mendengarkan musik\n",
            "Hobi setelah dimodifikasi: ['Menulis', 'Mendengarkan musik', 'Berenang']\n",
            "Hobi setelah ditambahkan elemen: ['Menulis', 'Mendengarkan musik', 'Berenang', 'Bersepeda']\n",
            "Hobi setelah dihapus elemen: ['Menulis', 'Berenang', 'Bersepeda']\n",
            "Hobi setelah dihapus elemen berdasarkan indeks: ['Menulis', 'Bersepeda']\n",
            "Dua hobi pertama: ['Menulis', 'Bersepeda']\n",
            "Semua hobi: ['Menulis', 'Bersepeda', 'Memasak', 'Melukis']\n",
            "Panjang list: 2\n",
            "Elemen terbesar: Menulis\n",
            "Elemen terkecil: Bersepeda\n"
          ]
        }
      ]
    },
    {
      "cell_type": "code",
      "source": [
        "peserta=[\"Andi\",\"Nabil\",\"Caca\"]\n",
        "print(peserta)"
      ],
      "metadata": {
        "colab": {
          "base_uri": "https://localhost:8080/"
        },
        "id": "nyhhItk7NMoC",
        "outputId": "91c626db-9165-40f3-814e-397064e52d42"
      },
      "execution_count": null,
      "outputs": [
        {
          "output_type": "stream",
          "name": "stdout",
          "text": [
            "['Andi', 'Nabil', 'Caca']\n"
          ]
        }
      ]
    },
    {
      "cell_type": "code",
      "source": [
        "print(\"Nama Saya\", peserta[2])"
      ],
      "metadata": {
        "colab": {
          "base_uri": "https://localhost:8080/"
        },
        "id": "YNNZyIGMNhLU",
        "outputId": "769a3641-c767-427f-aadc-7065aef379f2"
      },
      "execution_count": null,
      "outputs": [
        {
          "output_type": "stream",
          "name": "stdout",
          "text": [
            "Nama Saya Caca\n"
          ]
        }
      ]
    },
    {
      "cell_type": "code",
      "source": [
        "peserta[0]=\"Sion\"\n",
        "print(peserta)"
      ],
      "metadata": {
        "colab": {
          "base_uri": "https://localhost:8080/"
        },
        "id": "ni6Dl_EUN7Mh",
        "outputId": "6bc62e31-8ca7-4b9b-f07d-a08d60b3a981"
      },
      "execution_count": null,
      "outputs": [
        {
          "output_type": "stream",
          "name": "stdout",
          "text": [
            "['Sion', 'Nabil', 'Caca']\n"
          ]
        }
      ]
    },
    {
      "cell_type": "code",
      "source": [
        "peserta.append(\"Budiono\")\n",
        "print(peserta)"
      ],
      "metadata": {
        "colab": {
          "base_uri": "https://localhost:8080/"
        },
        "id": "qCg2hdNeOMVH",
        "outputId": "d42e6e63-6dfb-46a6-b1c1-451f18282b4c"
      },
      "execution_count": null,
      "outputs": [
        {
          "output_type": "stream",
          "name": "stdout",
          "text": [
            "['Sion', 'Nabil', 'Caca', 'Budiono']\n"
          ]
        }
      ]
    },
    {
      "cell_type": "code",
      "source": [
        "print(peserta)"
      ],
      "metadata": {
        "colab": {
          "base_uri": "https://localhost:8080/"
        },
        "id": "MZTiZi4LOw9F",
        "outputId": "738b4f56-02a8-429e-d306-4f46733f06ef"
      },
      "execution_count": null,
      "outputs": [
        {
          "output_type": "stream",
          "name": "stdout",
          "text": [
            "['Nabil', 'Caca', 'Budiono']\n"
          ]
        }
      ]
    },
    {
      "cell_type": "code",
      "source": [
        "del peserta[0]\n",
        "print(peserta)"
      ],
      "metadata": {
        "colab": {
          "base_uri": "https://localhost:8080/"
        },
        "id": "2yMlQtORPGBg",
        "outputId": "579a8522-35ed-48b3-9ea0-33a42afb74b8"
      },
      "execution_count": null,
      "outputs": [
        {
          "output_type": "stream",
          "name": "stdout",
          "text": [
            "['Caca', 'Budiono']\n"
          ]
        }
      ]
    },
    {
      "cell_type": "code",
      "source": [
        "# Slicing list\n",
        "print(\"Peserta:\", peserta[:2])"
      ],
      "metadata": {
        "colab": {
          "base_uri": "https://localhost:8080/"
        },
        "id": "uFIn1kwAPcz2",
        "outputId": "9348e15f-9a78-493a-8d30-ff431f7fa327"
      },
      "execution_count": null,
      "outputs": [
        {
          "output_type": "stream",
          "name": "stdout",
          "text": [
            "Peserta: ['Caca', 'Budiono']\n"
          ]
        }
      ]
    },
    {
      "cell_type": "code",
      "source": [
        "print(peserta)"
      ],
      "metadata": {
        "colab": {
          "base_uri": "https://localhost:8080/"
        },
        "id": "LSotlqomPo3q",
        "outputId": "2c66b11b-ce9c-4325-f5f6-22bf59b7b833"
      },
      "execution_count": null,
      "outputs": [
        {
          "output_type": "stream",
          "name": "stdout",
          "text": [
            "['Caca', 'Budiono']\n"
          ]
        }
      ]
    },
    {
      "cell_type": "code",
      "source": [
        "nama_baru=[\"Rafli\",\"Roy\"]\n",
        "nama_tambah=nama_baru+peserta\n",
        "print(nama_tambah)"
      ],
      "metadata": {
        "colab": {
          "base_uri": "https://localhost:8080/"
        },
        "id": "qbMjbKhDPuXJ",
        "outputId": "f627e683-827d-4715-acb1-fa105c555674"
      },
      "execution_count": null,
      "outputs": [
        {
          "output_type": "stream",
          "name": "stdout",
          "text": [
            "['Rafli', 'Roy', 'Caca', 'Budiono']\n"
          ]
        }
      ]
    },
    {
      "cell_type": "code",
      "source": [],
      "metadata": {
        "id": "7JmG9WHMQHWA"
      },
      "execution_count": null,
      "outputs": []
    },
    {
      "cell_type": "code",
      "source": [
        "print(\"Panjang list:\", len(nama_tambah))  # Output: 2\n",
        "print(\"Elemen terbesar:\", max(nama_tambah)) # Output: Bersepeda (berdasarkan urutan alfabetis)\n",
        "print(\"Elemen terkecil:\", min(nama_tambah))  # Output: Bersepeda (berdasarkan urutan alfabetis)"
      ],
      "metadata": {
        "colab": {
          "base_uri": "https://localhost:8080/"
        },
        "id": "ZG26Q3a_QHEr",
        "outputId": "e0e49894-89d6-4ce3-975b-724bb68386e2"
      },
      "execution_count": null,
      "outputs": [
        {
          "output_type": "stream",
          "name": "stdout",
          "text": [
            "Panjang list: 4\n",
            "Elemen terbesar: Roy\n",
            "Elemen terkecil: Budiono\n"
          ]
        }
      ]
    },
    {
      "cell_type": "markdown",
      "source": [
        "3. Tuple"
      ],
      "metadata": {
        "id": "EFHun09s6Omc"
      }
    },
    {
      "cell_type": "code",
      "source": [
        "# Tuple mirip dengan list, tetapi bersifat immutable (tidak dapat diubah setelah didefinisikan)\n",
        "koordinat = (10, 20)\n",
        "print(\"Koordinat:\", koordinat, type(koordinat))\n",
        "\n",
        "# Mengakses elemen tuple\n",
        "print(\"Nilai x:\", koordinat[0])  # Output: 10\n",
        "print(\"Nilai y:\", koordinat[1])  # Output: 20\n",
        "\n",
        "# Tuple packing dan unpacking\n",
        "angka = 1, 2, 3  # Tuple packing\n",
        "a, b, c = angka  # Tuple unpacking\n",
        "print(\"a:\", a)  # Output: 1\n",
        "print(\"b:\", b)  # Output: 2\n",
        "print(\"c:\", c)  # Output: 3\n",
        "\n",
        "# Tuple dengan satu elemen harus diakhiri dengan koma\n",
        "tuple_tunggal = (1,)  # Tuple dengan satu elemen\n",
        "print(tuple_tunggal, type(tuple_tunggal))\n",
        "\n",
        "\n",
        "# Contoh immutable (tidak bisa diubah)\n",
        "# koordinat[0] = 15  # Akan menghasilkan error TypeError: 'tuple' object does not support item assignment\n",
        "\n",
        "\n",
        "# Menggabungkan Tuple\n",
        "# Tuple pertama\n",
        "tuple1 = (1, 2, 3)\n",
        "\n",
        "# Tuple kedua\n",
        "tuple2 = (4, 5, 6)\n",
        "\n",
        "# Menggabungkan tuple\n",
        "tuple_hasil = tuple1 + tuple2\n",
        "\n",
        "print(\"Tuple hasil penggabungan:\", tuple_hasil)\n",
        "\n",
        "# Jika ingin menggabungkan lebih dari dua tuple\n",
        "tuple3 = (7, 8, 9)\n",
        "tuple_hasil_lain = tuple1 + tuple2 + tuple3\n",
        "\n",
        "print(\"Tuple hasil penggabungan lebih dari dua tuple:\", tuple_hasil_lain)"
      ],
      "metadata": {
        "colab": {
          "base_uri": "https://localhost:8080/"
        },
        "id": "IIwumqQ76P9c",
        "outputId": "9cd5b0d7-853f-4c50-f255-7fd3d7ba90d8"
      },
      "execution_count": null,
      "outputs": [
        {
          "output_type": "stream",
          "name": "stdout",
          "text": [
            "Koordinat: (10, 20) <class 'tuple'>\n",
            "Nilai x: 10\n",
            "Nilai y: 20\n",
            "a: 1\n",
            "b: 2\n",
            "c: 3\n",
            "(1,) <class 'tuple'>\n",
            "Tuple hasil penggabungan: (1, 2, 3, 4, 5, 6)\n",
            "Tuple hasil penggabungan lebih dari dua tuple: (1, 2, 3, 4, 5, 6, 7, 8, 9)\n"
          ]
        }
      ]
    },
    {
      "cell_type": "code",
      "source": [
        "tupel=(1,2,3)\n",
        "print(tupel)"
      ],
      "metadata": {
        "colab": {
          "base_uri": "https://localhost:8080/"
        },
        "id": "S7fI7rKXRC0e",
        "outputId": "5d3ba264-e53e-4e0f-85e1-5c906ce78a76"
      },
      "execution_count": null,
      "outputs": [
        {
          "output_type": "stream",
          "name": "stdout",
          "text": [
            "(1, 2, 3)\n"
          ]
        }
      ]
    },
    {
      "cell_type": "code",
      "source": [
        "# Tuple packing dan unpacking\n",
        "angka = 1, 2, 3  # Tuple packing\n",
        "a, b, c = angka  # Tuple unpacking\n",
        "print(\"a:\", a)  # Output: 1\n",
        "print(\"b:\", b)  # Output: 2\n",
        "print(\"c:\", c)  # Output: 3"
      ],
      "metadata": {
        "colab": {
          "base_uri": "https://localhost:8080/"
        },
        "id": "hr5QHA2QRLil",
        "outputId": "7e03ee98-4dc4-4219-b77f-c71da18b8022"
      },
      "execution_count": null,
      "outputs": [
        {
          "output_type": "stream",
          "name": "stdout",
          "text": [
            "a: 1\n",
            "b: 2\n",
            "c: 3\n"
          ]
        }
      ]
    },
    {
      "cell_type": "code",
      "source": [
        "nomor=(1,2,3,4,5)\n",
        "a, b, c, d, e=nomor\n",
        "print(a)\n",
        "print(b)\n",
        "print(c)\n",
        "print(d)\n",
        "print(e)"
      ],
      "metadata": {
        "colab": {
          "base_uri": "https://localhost:8080/"
        },
        "id": "unFEGlYzRp-3",
        "outputId": "97ce3bb4-0f06-410e-eb19-0429e60c928a"
      },
      "execution_count": null,
      "outputs": [
        {
          "output_type": "stream",
          "name": "stdout",
          "text": [
            "1\n",
            "2\n",
            "3\n",
            "4\n",
            "5\n"
          ]
        }
      ]
    },
    {
      "cell_type": "code",
      "source": [
        "# Tuple dengan satu elemen harus diakhiri dengan koma\n",
        "tuple_tunggal = (1,)  # Tuple dengan satu elemen\n",
        "print(tuple_tunggal)"
      ],
      "metadata": {
        "colab": {
          "base_uri": "https://localhost:8080/"
        },
        "id": "SnSKAUHDR8jY",
        "outputId": "76958183-17dc-4ff0-fa7a-c00bac9bea3f"
      },
      "execution_count": null,
      "outputs": [
        {
          "output_type": "stream",
          "name": "stdout",
          "text": [
            "(1,)\n"
          ]
        }
      ]
    },
    {
      "cell_type": "code",
      "source": [
        "tuple1 = (1, 2, 3)\n",
        "\n",
        "# Tuple kedua\n",
        "tuple2 = (4, 5, 6)\n",
        "\n",
        "# Menggabungkan tuple\n",
        "tuple_hasil = tuple1 + tuple2\n",
        "\n",
        "print(\"Tuple hasil penggabungan:\", tuple_hasil)"
      ],
      "metadata": {
        "colab": {
          "base_uri": "https://localhost:8080/"
        },
        "id": "G6zs3mfnSNiT",
        "outputId": "dae98c8a-cb06-4984-d893-10c4169d2e1c"
      },
      "execution_count": null,
      "outputs": [
        {
          "output_type": "stream",
          "name": "stdout",
          "text": [
            "Tuple hasil penggabungan: (1, 2, 3, 4, 5, 6)\n"
          ]
        }
      ]
    },
    {
      "cell_type": "markdown",
      "source": [
        "Tipe Data Set Dan Dictionary"
      ],
      "metadata": {
        "id": "9VFpzIE77MAO"
      }
    },
    {
      "cell_type": "markdown",
      "source": [
        "Set"
      ],
      "metadata": {
        "id": "DiBj-4xA7UzH"
      }
    },
    {
      "cell_type": "code",
      "source": [
        "# Tipe Data Set\n",
        "\n",
        "# Membuat set kosong\n",
        "set_kosong = set()\n",
        "print(set_kosong)\n",
        "\n",
        "# Membuat set dengan elemen-elemen\n",
        "himpunan_angka = {1, 2, 3, 4, 5}\n",
        "print(himpunan_angka)\n",
        "\n",
        "# Menambahkan elemen ke set\n",
        "himpunan_angka.add(6)\n",
        "print(himpunan_angka)\n",
        "\n",
        "# Menghapus elemen dari set\n",
        "himpunan_angka.remove(3)  # Akan error jika elemen tidak ada\n",
        "print(himpunan_angka)\n",
        "\n",
        "himpunan_angka.discard(7) # Tidak akan error jika elemen tidak ada\n",
        "print(himpunan_angka)\n",
        "\n",
        "# Operasi himpunan\n",
        "himpunan_huruf = {'a', 'b', 'c', 'd'}\n",
        "\n",
        "# Gabungan (union)\n",
        "gabungan = himpunan_angka | himpunan_huruf\n",
        "print(\"Gabungan:\", gabungan)\n",
        "\n",
        "# Irisan (intersection)\n",
        "irisan = himpunan_angka & himpunan_huruf\n",
        "print(\"Irisan:\", irisan)\n",
        "\n",
        "# Selisih (difference)\n",
        "selisih = himpunan_angka - himpunan_huruf\n",
        "print(\"Selisih:\", selisih)\n",
        "\n",
        "# Komplemen (symmetric difference)\n",
        "komplemen = himpunan_angka ^ himpunan_huruf\n",
        "print(\"Komplemen:\", komplemen)"
      ],
      "metadata": {
        "colab": {
          "base_uri": "https://localhost:8080/"
        },
        "id": "XDh20DaA7WCt",
        "outputId": "ef17180e-acee-4482-a9a6-605b2f7033e7"
      },
      "execution_count": null,
      "outputs": [
        {
          "output_type": "stream",
          "name": "stdout",
          "text": [
            "set()\n",
            "{1, 2, 3, 4, 5}\n",
            "{1, 2, 3, 4, 5, 6}\n",
            "{1, 2, 4, 5, 6}\n",
            "{1, 2, 4, 5, 6}\n",
            "Gabungan: {1, 2, 4, 5, 6, 'c', 'a', 'd', 'b'}\n",
            "Irisan: set()\n",
            "Selisih: {1, 2, 4, 5, 6}\n",
            "Komplemen: {1, 2, 4, 5, 6, 'c', 'a', 'd', 'b'}\n"
          ]
        }
      ]
    },
    {
      "cell_type": "code",
      "source": [
        "urut=set()\n",
        "print(urut)"
      ],
      "metadata": {
        "colab": {
          "base_uri": "https://localhost:8080/"
        },
        "id": "YLFxd8s5QoQY",
        "outputId": "53041e5f-8be3-440f-cb47-f4348963dcc0"
      },
      "execution_count": null,
      "outputs": [
        {
          "output_type": "stream",
          "name": "stdout",
          "text": [
            "set()\n"
          ]
        }
      ]
    },
    {
      "cell_type": "code",
      "source": [
        "himpunan_angka = {1, 2, 3, 4, 5}\n",
        "print(himpunan_angka)"
      ],
      "metadata": {
        "colab": {
          "base_uri": "https://localhost:8080/"
        },
        "id": "gsBSZX8ySf5A",
        "outputId": "6510f3cf-b0b9-4d66-9288-48f43402849a"
      },
      "execution_count": null,
      "outputs": [
        {
          "output_type": "stream",
          "name": "stdout",
          "text": [
            "{1, 2, 3, 4, 5}\n"
          ]
        }
      ]
    },
    {
      "cell_type": "code",
      "source": [
        "urutan_angka={1,2,3,4,5,6}\n",
        "print(urutan_angka)\n",
        "\n",
        "urutan_angka.add(18)\n",
        "print(urutan_angka)"
      ],
      "metadata": {
        "colab": {
          "base_uri": "https://localhost:8080/"
        },
        "id": "dd2Fi4b2SpVu",
        "outputId": "7c277384-6d23-4c4d-f5ef-4b176cac87f7"
      },
      "execution_count": null,
      "outputs": [
        {
          "output_type": "stream",
          "name": "stdout",
          "text": [
            "{1, 2, 3, 4, 5, 6}\n",
            "{1, 2, 3, 4, 5, 6, 18}\n"
          ]
        }
      ]
    },
    {
      "cell_type": "markdown",
      "source": [
        "Dictionary"
      ],
      "metadata": {
        "id": "Sn39sy5h7v3d"
      }
    },
    {
      "cell_type": "code",
      "source": [
        "# Dictionary\n",
        "# Membuat dictionary\n",
        "mahasiswa = {\n",
        "    \"nama\": \"Andi\",\n",
        "    \"nim\": \"1234567890\",\n",
        "    \"jurusan\": \"Informatika\"\n",
        "}\n",
        "\n",
        "print(mahasiswa)\n",
        "\n",
        "# Mengakses nilai dengan key\n",
        "print(\"Nama:\", mahasiswa[\"nama\"])\n",
        "print(\"NIM:\", mahasiswa[\"nim\"])\n",
        "\n",
        "# Menambahkan elemen baru\n",
        "mahasiswa[\"alamat\"] = \"Jl. Ajah Dulu\"\n",
        "print(mahasiswa)\n",
        "\n",
        "# Mengubah nilai\n",
        "mahasiswa[\"nim\"] = \"0987654321\"\n",
        "print(mahasiswa)\n",
        "\n",
        "# Menghapus elemen\n",
        "del mahasiswa[\"alamat\"]\n",
        "print(mahasiswa)\n",
        "\n",
        "# Mengakses nilai dengan get()\n",
        "print(\"Jurusan:\", mahasiswa.get(\"jurusan\"))\n",
        "print(\"Alamat:\", mahasiswa.get(\"alamat\", \"Alamat tidak ditemukan\")) # Mengatasi KeyError\n",
        "\n",
        "\n",
        "# Metode dictionary lainnya\n",
        "print(mahasiswa.keys())  # Mengambil semua keys\n",
        "print(mahasiswa.values()) # Mengambil semua values\n",
        "print(mahasiswa.items()) # Mengambil pasangan key-value"
      ],
      "metadata": {
        "colab": {
          "base_uri": "https://localhost:8080/"
        },
        "id": "7SiBPj8V7xeP",
        "outputId": "7649a742-0a6a-4cb1-9173-d78c1225881b"
      },
      "execution_count": null,
      "outputs": [
        {
          "output_type": "stream",
          "name": "stdout",
          "text": [
            "{'nama': 'Andi', 'nim': '1234567890', 'jurusan': 'Informatika'}\n",
            "Nama: Andi\n",
            "NIM: 1234567890\n",
            "{'nama': 'Andi', 'nim': '1234567890', 'jurusan': 'Informatika', 'alamat': 'Jl. Ajah Dulu'}\n",
            "{'nama': 'Andi', 'nim': '0987654321', 'jurusan': 'Informatika', 'alamat': 'Jl. Ajah Dulu'}\n",
            "{'nama': 'Andi', 'nim': '0987654321', 'jurusan': 'Informatika'}\n",
            "Jurusan: Informatika\n",
            "Alamat: Alamat tidak ditemukan\n",
            "dict_keys(['nama', 'nim', 'jurusan'])\n",
            "dict_values(['Andi', '0987654321', 'Informatika'])\n",
            "dict_items([('nama', 'Andi'), ('nim', '0987654321'), ('jurusan', 'Informatika')])\n"
          ]
        }
      ]
    },
    {
      "cell_type": "code",
      "source": [
        "murid={\n",
        "    \"nama\" :\"Roy\",\n",
        "    \"alamat\" : \"setia\"\n",
        "}\n",
        "print(murid)\n",
        "\n",
        "print(\"akses ke \", murid[\"nama\"])"
      ],
      "metadata": {
        "colab": {
          "base_uri": "https://localhost:8080/"
        },
        "id": "UoPJdfTMUz5d",
        "outputId": "0894e2ec-c1f4-437a-f2f5-b63cfe2bc60e"
      },
      "execution_count": null,
      "outputs": [
        {
          "output_type": "stream",
          "name": "stdout",
          "text": [
            "{'nama': 'Roy', 'alamat': 'setia'}\n",
            "akses ke  Roy\n"
          ]
        }
      ]
    },
    {
      "cell_type": "code",
      "source": [
        "murid[\"nama panggilan\"] = \"Sepat\"\n",
        "print(murid)"
      ],
      "metadata": {
        "colab": {
          "base_uri": "https://localhost:8080/"
        },
        "id": "-JFo8xXYWAiL",
        "outputId": "60b31ed0-88d5-41fe-955b-a086fffa764a"
      },
      "execution_count": null,
      "outputs": [
        {
          "output_type": "stream",
          "name": "stdout",
          "text": [
            "{'nama': 'Roy', 'alamat': 'setia', 'nama panggilan': 'Sepat'}\n"
          ]
        }
      ]
    },
    {
      "cell_type": "code",
      "source": [
        "murid[\"nama\"] = \"agus\"\n",
        "print(murid)"
      ],
      "metadata": {
        "colab": {
          "base_uri": "https://localhost:8080/"
        },
        "id": "OKxlItarWYvM",
        "outputId": "daa03732-632f-4a21-e62e-29635db6612e"
      },
      "execution_count": null,
      "outputs": [
        {
          "output_type": "stream",
          "name": "stdout",
          "text": [
            "{'nama': 'agus', 'alamat': 'setia', 'nama panggilan': 'Sepat'}\n"
          ]
        }
      ]
    },
    {
      "cell_type": "markdown",
      "source": [
        "BOOLEAN"
      ],
      "metadata": {
        "id": "fkqsvKxY8TI0"
      }
    },
    {
      "cell_type": "code",
      "source": [
        "# BOOLEAN\n",
        "benar = True\n",
        "salah = False\n",
        "\n",
        "print(\"Benar:\", benar, type(benar))\n",
        "print(\"Salah:\", salah, type(salah))\n",
        "\n",
        "# Operasi Boolean\n",
        "print(\"Benar dan Salah:\", benar and salah)  # Output: False\n",
        "print(\"Benar atau Salah:\", benar or salah)  # Output: True\n",
        "print(\"Tidak Benar:\", not benar)  # Output: False"
      ],
      "metadata": {
        "colab": {
          "base_uri": "https://localhost:8080/"
        },
        "id": "futkCnCV8V3-",
        "outputId": "77d329bd-5bfc-4e0f-fb07-974a77b1f12d"
      },
      "execution_count": null,
      "outputs": [
        {
          "output_type": "stream",
          "name": "stdout",
          "text": [
            "Benar: True <class 'bool'>\n",
            "Salah: False <class 'bool'>\n",
            "Benar dan Salah: False\n",
            "Benar atau Salah: True\n",
            "Tidak Benar: False\n"
          ]
        }
      ]
    },
    {
      "cell_type": "markdown",
      "source": [
        "# Casting type data"
      ],
      "metadata": {
        "id": "wQbsD5A22Wm2"
      }
    },
    {
      "cell_type": "code",
      "source": [
        "# merubah dari satu tipe ke tipe lain\n",
        "# tipe data = int, float, str, bool\n",
        "\n",
        "## INTEGER\n",
        "print(\"====INTEGER====\")\n",
        "data_int = 9;\n",
        "print(\"data = \", data_int, \",type =\",type(data_int))\n",
        "\n",
        "data_float = float(data_int)\n",
        "data_str   = str(data_int)\n",
        "data_bool  = bool(data_int) # akan false jika nilai int = 0\n",
        "print(\"data = \", data_float, \",type =\",type(data_float))\n",
        "print(\"data = \", data_str, \",type =\",type(data_str))\n",
        "print(\"data = \", data_bool, \",type =\",type(data_bool))\n",
        "\n",
        "## FLOAT\n",
        "print(\"====FLOAT====\")\n",
        "data_float = 0;\n",
        "print(\"data = \", data_float, \",type =\",type(data_float))\n",
        "\n",
        "data_int = int(data_float) # akan dibulatkan ke bawah\n",
        "data_str   = str(data_float)\n",
        "data_bool  = bool(data_float) # akan false jika nilai float = 0\n",
        "print(\"data = \", data_int, \",type =\",type(data_int))\n",
        "print(\"data = \", data_str, \",type =\",type(data_str))\n",
        "print(\"data = \", data_bool, \",type =\",type(data_bool))\n",
        "\n",
        "## BOOLEAN\n",
        "print(\"====BOOLEAN====\")\n",
        "data_bool = False;\n",
        "print(\"data = \", data_bool, \",type =\",type(data_bool))\n",
        "\n",
        "data_int = int(data_bool) # akan dibulatkan ke bawah\n",
        "data_str   = str(data_bool)\n",
        "data_float  = float(data_bool) # akan false jika nilai float = 0\n",
        "print(\"data = \", data_int, \",type =\",type(data_int))\n",
        "print(\"data = \", data_str, \",type =\",type(data_str))\n",
        "print(\"data = \", data_float, \",type =\",type(data_float))\n",
        "\n",
        "## STRING\n",
        "print(\"====STRING====\")\n",
        "data_str = \"10\";\n",
        "print(\"data = \", data_str, \",type =\",type(data_str))\n",
        "\n",
        "data_int    = int(data_str) # string harus angka\n",
        "data_float  = float(data_str)  # string harus angka\n",
        "data_bool   = bool(data_str) # false jika string kosong\n",
        "print(\"data = \", data_int, \",type =\",type(data_int))\n",
        "print(\"data = \", data_float, \",type =\",type(data_float))\n",
        "print(\"data = \", data_bool, \",type =\",type(data_bool))"
      ],
      "metadata": {
        "colab": {
          "base_uri": "https://localhost:8080/"
        },
        "id": "UACJ0a9Y2aHs",
        "outputId": "70eb9b1f-ceaa-4878-b505-cbd8e1eef8bb"
      },
      "execution_count": null,
      "outputs": [
        {
          "output_type": "stream",
          "name": "stdout",
          "text": [
            "====INTEGER====\n",
            "data =  9 ,type = <class 'int'>\n",
            "data =  9.0 ,type = <class 'float'>\n",
            "data =  9 ,type = <class 'str'>\n",
            "data =  True ,type = <class 'bool'>\n",
            "====FLOAT====\n",
            "data =  0 ,type = <class 'int'>\n",
            "data =  0 ,type = <class 'int'>\n",
            "data =  0 ,type = <class 'str'>\n",
            "data =  False ,type = <class 'bool'>\n",
            "====BOOLEAN====\n",
            "data =  False ,type = <class 'bool'>\n",
            "data =  0 ,type = <class 'int'>\n",
            "data =  False ,type = <class 'str'>\n",
            "data =  0.0 ,type = <class 'float'>\n",
            "====STRING====\n",
            "data =  10 ,type = <class 'str'>\n",
            "data =  10 ,type = <class 'int'>\n",
            "data =  10.0 ,type = <class 'float'>\n",
            "data =  True ,type = <class 'bool'>\n"
          ]
        }
      ]
    },
    {
      "cell_type": "code",
      "source": [
        "## INTEGER\n",
        "print(\"====INTEGER====\")\n",
        "data_int = 9;\n",
        "print(\"data = \", data_int, \",type =\",type(data_int))"
      ],
      "metadata": {
        "colab": {
          "base_uri": "https://localhost:8080/"
        },
        "id": "NnO6-qeUXd8c",
        "outputId": "cab234fa-c7ee-4f8f-bba5-54c62fdc81bf"
      },
      "execution_count": null,
      "outputs": [
        {
          "output_type": "stream",
          "name": "stdout",
          "text": [
            "====INTEGER====\n",
            "data =  9 ,type = <class 'int'>\n"
          ]
        }
      ]
    },
    {
      "cell_type": "code",
      "source": [
        "ubah_data=float(data_int)\n",
        "print(\"data = \", ubah_data, \",type =\",type(ubah_data))"
      ],
      "metadata": {
        "colab": {
          "base_uri": "https://localhost:8080/"
        },
        "id": "mbYa0BNcXpCM",
        "outputId": "5a830b82-9fdf-4c45-aebc-8f147885f532"
      },
      "execution_count": null,
      "outputs": [
        {
          "output_type": "stream",
          "name": "stdout",
          "text": [
            "data =  9.0 ,type = <class 'float'>\n"
          ]
        }
      ]
    },
    {
      "cell_type": "markdown",
      "source": [
        "# Operasi Aritmatika"
      ],
      "metadata": {
        "id": "uHoHL9f-82Cp"
      }
    },
    {
      "cell_type": "code",
      "source": [
        "# Operasi Aritmatika\n",
        "\n",
        "# Penjumlahan\n",
        "a = 10\n",
        "b = 5\n",
        "penjumlahan = a + b\n",
        "print(\"Penjumlahan:\", penjumlahan)  # Output: 15\n",
        "\n",
        "# Pengurangan\n",
        "pengurangan = a - b\n",
        "print(\"Pengurangan:\", pengurangan)  # Output: 5\n",
        "\n",
        "# Perkalian\n",
        "perkalian = a * b\n",
        "print(\"Perkalian:\", perkalian)  # Output: 50\n",
        "\n",
        "# Pembagian\n",
        "pembagian = a / b\n",
        "print(\"Pembagian:\", pembagian)  # Output: 2.0\n",
        "\n",
        "# Pembagian bulat (floor division)\n",
        "pembagian_bulat = a // b\n",
        "print(\"Pembagian Bulat:\", pembagian_bulat) # Output: 2\n",
        "\n",
        "# Modulus (sisa bagi)\n",
        "modulus = a % b\n",
        "print(\"Modulus:\", modulus)  # Output: 0\n",
        "\n",
        "# Pangkat\n",
        "pangkat = a ** b\n",
        "print(\"Pangkat:\", pangkat)  # Output: 100000\n",
        "\n",
        "# Urutan operasi (prioritas operasi)\n",
        "a = 10\n",
        "b = 5\n",
        "c = 2\n",
        "\n",
        "# Urutan operasi\n",
        "hasil = a + b * c - c / b ** c\n",
        "\n",
        "print(\"Hasil operasi:\", hasil)\n"
      ],
      "metadata": {
        "colab": {
          "base_uri": "https://localhost:8080/"
        },
        "id": "TGswXqmN87MH",
        "outputId": "f7827f48-ee2e-49da-8dbe-deb8e065a421"
      },
      "execution_count": null,
      "outputs": [
        {
          "output_type": "stream",
          "name": "stdout",
          "text": [
            "Penjumlahan: 15\n",
            "Pengurangan: 5\n",
            "Perkalian: 50\n",
            "Pembagian: 2.0\n",
            "Pembagian Bulat: 2\n",
            "Modulus: 0\n",
            "Pangkat: 100000\n",
            "Hasil operasi: 19.92\n"
          ]
        }
      ]
    },
    {
      "cell_type": "markdown",
      "source": [
        "# Operasi Pembanding"
      ],
      "metadata": {
        "id": "FPH5wTY393Vg"
      }
    },
    {
      "cell_type": "code",
      "source": [
        "# operasi Pembanding\n",
        "\n",
        "# setiap hasil dari operasi komparasi adalah boolean\n",
        "\n",
        "# >,<,>=,<=,==,!=,is,is not\n",
        "\n",
        "a = 4\n",
        "b = 2\n",
        "\n",
        "# lebih besar dari >\n",
        "print('========== lebih besar dari (>)')\n",
        "hasil = a > 3\n",
        "print(a,'>',3,'=',hasil)\n",
        "hasil = b > 3\n",
        "print(b,'>',3,'=',hasil)\n",
        "hasil = b > 2\n",
        "print(b,'>',2,'=',hasil)\n",
        "\n",
        "# kurang dari <\n",
        "print('========== kurang dari (<)')\n",
        "hasil = a < 3\n",
        "print(a,'<',3,'=',hasil)\n",
        "hasil = b < 3\n",
        "print(b,'<',3,'=',hasil)\n",
        "hasil = b < 2\n",
        "print(b,'<',2,'=',hasil)\n",
        "\n",
        "# lebih dari sama dengan >=\n",
        "print('========== lebih dari sama dengan(>=)')\n",
        "hasil = a >= 3\n",
        "print(a,'>=',3,'=',hasil)\n",
        "hasil = b >= 3\n",
        "print(b,'>=',3,'=',hasil)\n",
        "hasil = b >= 2\n",
        "print(b,'>=',2,'=',hasil)\n",
        "\n",
        "# kurang dari sama dengan <=\n",
        "print('======== kurang dari sama dengan(<=)')\n",
        "hasil = a <= 3\n",
        "print(a,'<=',3,'=',hasil)\n",
        "hasil = b <= 3\n",
        "print(b,'<=',3,'=',hasil)\n",
        "hasil = b <= 2\n",
        "print(b,'<=',2,'=',hasil)\n",
        "\n",
        "# sama dengan (==)\n",
        "print('======== sama dengan(==)')\n",
        "hasil = a == 4\n",
        "print(a,'==',4,'=',hasil)\n",
        "hasil = b == 4\n",
        "print(b,'==',4,'=',hasil)\n",
        "\n",
        "# tidak sama dengan (!=)\n",
        "print('======== sama dengan(!=)')\n",
        "hasil = a != 4\n",
        "print(a,'!=',4,'=',hasil)\n",
        "hasil = b != 4\n",
        "print(b,'!=',4,'=',hasil)\n",
        "\n",
        "# 'is' sebagai komparasi object identity\n",
        "print('======== object identity(is)')\n",
        "x = 5 # ini adalah assignment membuat object\n",
        "y = 5\n",
        "print('nilai x =',x,',id = ',hex(id(x)))\n",
        "print('nilai y =',y,',id = ',hex(id(y)))\n",
        "hasil = x is y\n",
        "print('x is y =',hasil)\n",
        "\n",
        "x = 5 # ini adalah assignment membuat object\n",
        "y = 6\n",
        "print('nilai x =',x,',id = ',hex(id(x)))\n",
        "print('nilai y =',y,',id = ',hex(id(y)))\n",
        "hasil = x is y\n",
        "print('x is y =',hasil)\n",
        "\n",
        "print('======== object identity(is not)')\n",
        "x = 5 # ini adalah assignment membuat object\n",
        "y = 5\n",
        "print('nilai x =',x,',id = ',hex(id(x)))\n",
        "print('nilai y =',y,',id = ',hex(id(y)))\n",
        "hasil = x is not y\n",
        "print('x is y =',hasil)\n",
        "\n",
        "x = 5 # ini adalah assignment membuat object\n",
        "y = 6\n",
        "print('nilai x =',x,',id = ',hex(id(x)))\n",
        "print('nilai y =',y,',id = ',hex(id(y)))\n",
        "hasil = x is not y\n",
        "print('x is y =',hasil)"
      ],
      "metadata": {
        "colab": {
          "base_uri": "https://localhost:8080/"
        },
        "id": "5IyAVLpg-AmX",
        "outputId": "df3fad7c-5786-4f64-e840-ff1cfe5262ed"
      },
      "execution_count": null,
      "outputs": [
        {
          "output_type": "stream",
          "name": "stdout",
          "text": [
            "========== lebih besar dari (>)\n",
            "4 > 3 = True\n",
            "2 > 3 = False\n",
            "2 > 2 = False\n",
            "========== kurang dari (<)\n",
            "4 < 3 = False\n",
            "2 < 3 = True\n",
            "2 < 2 = False\n",
            "========== lebih dari sama dengan(>=)\n",
            "4 >= 3 = True\n",
            "2 >= 3 = False\n",
            "2 >= 2 = True\n",
            "======== kurang dari sama dengan(<=)\n",
            "4 <= 3 = False\n",
            "2 <= 3 = True\n",
            "2 <= 2 = True\n",
            "======== sama dengan(==)\n",
            "4 == 4 = True\n",
            "2 == 4 = False\n",
            "======== sama dengan(!=)\n",
            "4 != 4 = False\n",
            "2 != 4 = True\n",
            "======== object identity(is)\n",
            "nilai x = 5 ,id =  0x7b742eb40170\n",
            "nilai y = 5 ,id =  0x7b742eb40170\n",
            "x is y = True\n",
            "nilai x = 5 ,id =  0x7b742eb40170\n",
            "nilai y = 6 ,id =  0x7b742eb40190\n",
            "x is y = False\n",
            "======== object identity(is not)\n",
            "nilai x = 5 ,id =  0x7b742eb40170\n",
            "nilai y = 5 ,id =  0x7b742eb40170\n",
            "x is y = False\n",
            "nilai x = 5 ,id =  0x7b742eb40170\n",
            "nilai y = 6 ,id =  0x7b742eb40190\n",
            "x is y = True\n"
          ]
        }
      ]
    },
    {
      "cell_type": "markdown",
      "source": [
        "# Operasi BITWISE"
      ],
      "metadata": {
        "id": "StuhDJBD-kZW"
      }
    },
    {
      "cell_type": "code",
      "source": [
        "#bitwise, operasi biner, binary\n",
        "\n",
        "a = 9\n",
        "b = 5\n",
        "\n",
        "# bitwise OR (|)\n",
        "c = a | b\n",
        "print('\\n=========OR=========')\n",
        "print('nilai :',a,' , binary :',format(a,'08b'))\n",
        "print('nilai :',b,' , binary :',format(b,'08b'))\n",
        "print('----------------------------- (|)')\n",
        "print('nilai :',c,' , binary :',format(c,'08b'))\n",
        "\n",
        "# bitwise AND (&)\n",
        "c = a & b\n",
        "print('\\n=========AND========')\n",
        "print('nilai :',a,' , binary :',format(a,'08b'))\n",
        "print('nilai :',b,' , binary :',format(b,'08b'))\n",
        "print('----------------------------- (&)')\n",
        "print('nilai :',c,' , binary :',format(c,'08b'))\n",
        "\n",
        "# bitwise XOR (^)\n",
        "c = a ^ b\n",
        "print('\\n=========XOR========')\n",
        "print('nilai :',a,' , binary :',format(a,'08b'))\n",
        "print('nilai :',b,' , binary :',format(b,'08b'))\n",
        "print('----------------------------- (^)')\n",
        "print('nilai :',c,' , binary :',format(c,'08b'))\n",
        "\n",
        "# bitwise NOT (~)\n",
        "c = ~a\n",
        "print('\\n=========NOT========')\n",
        "print('nilai :',a,' , binary :',format(a,'08b'))\n",
        "print('----------------------------- (~)')\n",
        "print('nilai :',c,' , binary :',format(c,'08b'))\n",
        "print('----------------------------- (^)')\n",
        "d = 0b0000001001\n",
        "e = 0b1111111111\n",
        "\n",
        "# shifting\n",
        "\n",
        "# shift right (>>)\n",
        "c = a >> 2\n",
        "print('\\n=========>>=========')\n",
        "print('nilai :',a,' , binary :',format(a,'08b'))\n",
        "print('----------------------------- (>>)')\n",
        "print('nilai :',c,' , binary :',format(c,'08b'))\n",
        "\n",
        "# shift left (<<)\n",
        "c = a << 2\n",
        "print('\\n=========<<=========')\n",
        "print('nilai :',a,' , binary :',format(a,'08b'))\n",
        "print('----------------------------- (<<)')\n",
        "print('nilai :',c,' , binary :',format(c,'08b'))"
      ],
      "metadata": {
        "colab": {
          "base_uri": "https://localhost:8080/"
        },
        "id": "r_41GA6N-ufW",
        "outputId": "830ac0a3-39b2-4645-a943-0c6748a800ce"
      },
      "execution_count": null,
      "outputs": [
        {
          "output_type": "stream",
          "name": "stdout",
          "text": [
            "\n",
            "=========OR=========\n",
            "nilai : 9  , binary : 00001001\n",
            "nilai : 5  , binary : 00000101\n",
            "----------------------------- (|)\n",
            "nilai : 13  , binary : 00001101\n",
            "\n",
            "=========AND========\n",
            "nilai : 9  , binary : 00001001\n",
            "nilai : 5  , binary : 00000101\n",
            "----------------------------- (&)\n",
            "nilai : 1  , binary : 00000001\n",
            "\n",
            "=========XOR========\n",
            "nilai : 9  , binary : 00001001\n",
            "nilai : 5  , binary : 00000101\n",
            "----------------------------- (^)\n",
            "nilai : 12  , binary : 00001100\n",
            "\n",
            "=========NOT========\n",
            "nilai : 9  , binary : 00001001\n",
            "----------------------------- (~)\n",
            "nilai : -10  , binary : -0001010\n",
            "----------------------------- (^)\n",
            "\n",
            "=========>>=========\n",
            "nilai : 9  , binary : 00001001\n",
            "----------------------------- (>>)\n",
            "nilai : 2  , binary : 00000010\n",
            "\n",
            "=========<<=========\n",
            "nilai : 9  , binary : 00001001\n",
            "----------------------------- (<<)\n",
            "nilai : 36  , binary : 00100100\n"
          ]
        }
      ]
    },
    {
      "cell_type": "code",
      "source": [
        "bulat=2\n",
        "print('nilai :',bulat,' , binary :',format(bulat,'08b'))"
      ],
      "metadata": {
        "colab": {
          "base_uri": "https://localhost:8080/"
        },
        "id": "D5fuAoK-ZWYf",
        "outputId": "55516384-44c4-4142-808f-f53cfc6c6beb"
      },
      "execution_count": null,
      "outputs": [
        {
          "output_type": "stream",
          "name": "stdout",
          "text": [
            "nilai : 2  , binary : 00000010\n"
          ]
        }
      ]
    },
    {
      "cell_type": "code",
      "source": [
        "bulat1=2>>4\n",
        "print('nilai :',bulat1,' , binary :',format(bulat1,'08b'))"
      ],
      "metadata": {
        "colab": {
          "base_uri": "https://localhost:8080/"
        },
        "id": "gQ3HT2sAZmoZ",
        "outputId": "942e37bc-f8ae-4ed5-c98e-9053a45ffdbf"
      },
      "execution_count": null,
      "outputs": [
        {
          "output_type": "stream",
          "name": "stdout",
          "text": [
            "nilai : 0  , binary : 00000000\n"
          ]
        }
      ]
    },
    {
      "cell_type": "code",
      "source": [
        "bulat2=2<<1\n",
        "print('nilai :',bulat2,' , binary :',format(bulat2,'08b'))"
      ],
      "metadata": {
        "colab": {
          "base_uri": "https://localhost:8080/"
        },
        "id": "3rSocsQ4Z-lg",
        "outputId": "66161a38-c5fa-4c61-b1c7-8e740b0b1d88"
      },
      "execution_count": null,
      "outputs": [
        {
          "output_type": "stream",
          "name": "stdout",
          "text": [
            "nilai : 4  , binary : 00000100\n"
          ]
        }
      ]
    },
    {
      "cell_type": "markdown",
      "source": [
        "# Percabangan (If/Else)"
      ],
      "metadata": {
        "id": "anZVdzqQ_FHO"
      }
    },
    {
      "cell_type": "code",
      "source": [
        "# Percabangan if\n",
        "\n",
        "nilai = 85\n",
        "\n",
        "if nilai >= 90:\n",
        "    print(\"Nilai A\")\n",
        "elif nilai >= 80:\n",
        "    print(\"Nilai B\")\n",
        "elif nilai >= 70:\n",
        "    print(\"Nilai C\")\n",
        "else:\n",
        "    print(\"Nilai D\")\n",
        "\n",
        "\n",
        "# Percabangan if bersarang (nested if)\n",
        "\n",
        "usia = 20\n",
        "pekerjaan = \"Mahasiswa\"\n",
        "\n",
        "if usia >= 18:\n",
        "    if pekerjaan == \"Mahasiswa\":\n",
        "        print(\"Anda seorang mahasiswa dewasa\")\n",
        "    else:\n",
        "        print(\"Anda sudah dewasa dan bekerja\")\n",
        "else:\n",
        "    print(\"Anda masih di bawah umur\")\n",
        "\n",
        "# Percabangan dengan operator logika (and, or, not)\n",
        "nilai = 75\n",
        "absensi = 80\n",
        "if nilai >= 75 and absensi >= 80 :\n",
        "    print('Selamat anda lulus')\n",
        "else :\n",
        "  print('Maaf anda tidak lulus')\n",
        "\n",
        "# Contoh lain\n",
        "nilai = 60\n",
        "absensi = 70\n",
        "\n",
        "if nilai >= 75 or absensi >= 80 :\n",
        "    print(\"Selamat anda lulus\")\n",
        "else :\n",
        "    print('Maaf anda tidak lulus')\n",
        "\n",
        "# Percabangan dengan pass\n",
        "\n",
        "nilai = 50\n",
        "\n",
        "if nilai >= 70:\n",
        "    print('Lulus')\n",
        "else:\n",
        "    pass # Tidak melakukan apa pun\n",
        "\n",
        "\n",
        "# Ternary Operator\n",
        "umur = 17\n",
        "\n",
        "status = \"Dewasa\" if umur >= 18 else \"Anak-anak\"\n",
        "\n",
        "print(status) # Output: Anak-anak"
      ],
      "metadata": {
        "id": "jOLi_GK5_fMW",
        "colab": {
          "base_uri": "https://localhost:8080/"
        },
        "outputId": "2515c1de-28d5-4199-d6c0-6b0e1e70169f"
      },
      "execution_count": null,
      "outputs": [
        {
          "output_type": "stream",
          "name": "stdout",
          "text": [
            "Nilai B\n",
            "Anda seorang mahasiswa dewasa\n",
            "Selamat anda lulus\n",
            "Maaf anda tidak lulus\n",
            "Anak-anak\n"
          ]
        }
      ]
    },
    {
      "cell_type": "code",
      "source": [
        "nilai = 85\n",
        "\n",
        "if nilai >= 90:\n",
        "    print(\"Nilai A\")\n",
        "elif nilai >= 80:\n",
        "    print(\"Nilai B\")\n",
        "elif nilai >= 70:\n",
        "    print(\"Nilai C\")\n",
        "else:\n",
        "    print(\"Nilai D\")\n"
      ],
      "metadata": {
        "colab": {
          "base_uri": "https://localhost:8080/"
        },
        "id": "Rob0I8s6a8zR",
        "outputId": "f4b057ee-78bb-4436-e6dd-df4957b52e39"
      },
      "execution_count": null,
      "outputs": [
        {
          "output_type": "stream",
          "name": "stdout",
          "text": [
            "Nilai B\n"
          ]
        }
      ]
    },
    {
      "cell_type": "code",
      "source": [
        "usia = 15\n",
        "pekerjaan = \"Mahasiswa\"\n",
        "\n",
        "if usia >= 18:\n",
        "    if pekerjaan == \"Mahasiswa\":\n",
        "        print(\"Anda seorang mahasiswa dewasa\")\n",
        "    else:\n",
        "        print(\"Anda sudah dewasa dan bekerja\")\n",
        "else:\n",
        "    print(\"Anda masih di bawah umur\")"
      ],
      "metadata": {
        "colab": {
          "base_uri": "https://localhost:8080/"
        },
        "id": "s-F_HwqHbQpM",
        "outputId": "6d25deda-7bb1-4a88-df54-cd06e68478cc"
      },
      "execution_count": null,
      "outputs": [
        {
          "output_type": "stream",
          "name": "stdout",
          "text": [
            "Anda masih di bawah umur\n"
          ]
        }
      ]
    },
    {
      "cell_type": "markdown",
      "source": [
        "# Perulangan (looping)"
      ],
      "metadata": {
        "id": "w_KIkBIC_tsP"
      }
    },
    {
      "cell_type": "markdown",
      "source": [
        "For Loop"
      ],
      "metadata": {
        "id": "P6lu4KhCAWce"
      }
    },
    {
      "cell_type": "code",
      "source": [
        "# Perulangan (loop)\n",
        "\n",
        "# for kondisi:\n",
        "# \taksi\n",
        "\n",
        "# ini dengan list\n",
        "angka2_list = [0,2,4,8,10] # ini adalah list\n",
        "print(angka2_list)\n",
        "\n",
        "for meja in angka2_list:\n",
        "\tprint(f\"urutan sekarang -> {meja}\")\n",
        "\n",
        "print(\"akhir dari program 1 \\n\")\n",
        "\n",
        "# ini dengan range\n",
        "angka2_range = range(5)\n",
        "\n",
        "for i in angka2_range:\n",
        "\tprint(f\"i sekarang -> {i}\")\n",
        "\n",
        "print(\"akhir dari program 2 \\n\")\n",
        "\n",
        "angka2_range = range(1,10)\n",
        "\n",
        "for i in angka2_range:\n",
        "\tprint(f\"i sekarang -> {i}\")\n",
        "\t# print(\"saya keren\")\n",
        "\n",
        "print(\"akhir dari program 3 \\n\")\n",
        "\n",
        "# menggunakan string\n",
        "\n",
        "data_str = \"we are connected\"\n",
        "\n",
        "for huruf in data_str:\n",
        "\tprint(huruf)\n",
        "\n",
        "print(\"akhir dari program 4 \\n\")"
      ],
      "metadata": {
        "colab": {
          "base_uri": "https://localhost:8080/"
        },
        "id": "GNkJzi6F_0Yn",
        "outputId": "9477fa6e-3d4c-4bc8-afe1-026ae1300fe2"
      },
      "execution_count": null,
      "outputs": [
        {
          "output_type": "stream",
          "name": "stdout",
          "text": [
            "[0, 2, 4, 8, 10]\n",
            "urutan sekarang -> 0\n",
            "urutan sekarang -> 2\n",
            "urutan sekarang -> 4\n",
            "urutan sekarang -> 8\n",
            "urutan sekarang -> 10\n",
            "akhir dari program 1 \n",
            "\n",
            "i sekarang -> 0\n",
            "i sekarang -> 1\n",
            "i sekarang -> 2\n",
            "i sekarang -> 3\n",
            "i sekarang -> 4\n",
            "akhir dari program 2 \n",
            "\n",
            "i sekarang -> 1\n",
            "i sekarang -> 2\n",
            "i sekarang -> 3\n",
            "i sekarang -> 4\n",
            "i sekarang -> 5\n",
            "i sekarang -> 6\n",
            "i sekarang -> 7\n",
            "i sekarang -> 8\n",
            "i sekarang -> 9\n",
            "akhir dari program 3 \n",
            "\n",
            "w\n",
            "e\n",
            " \n",
            "a\n",
            "r\n",
            "e\n",
            " \n",
            "c\n",
            "o\n",
            "n\n",
            "n\n",
            "e\n",
            "c\n",
            "t\n",
            "e\n",
            "d\n",
            "akhir dari program 4 \n",
            "\n"
          ]
        }
      ]
    },
    {
      "cell_type": "markdown",
      "source": [
        "While Loop"
      ],
      "metadata": {
        "id": "8hJYEYVPAjo5"
      }
    },
    {
      "cell_type": "code",
      "source": [
        "# while loop\n",
        "\n",
        "# while kondisi:\n",
        "# \taksi ini\n",
        "# \taksi itu\n",
        "\n",
        "# akhir dari program\n",
        "\n",
        "angka = 0\n",
        "print(f\"angka sekarang -> {angka}\")\n",
        "\n",
        "while angka < 5:\n",
        "\tangka += 1\n",
        "\tprint(f\"angka sekarang -> {angka}\")\n",
        "\tprint(\"Agus ganteng maxsyimaal!\")\n",
        "\n",
        "print(\"cukuuup\")"
      ],
      "metadata": {
        "colab": {
          "base_uri": "https://localhost:8080/"
        },
        "id": "1nz62fUOAzuP",
        "outputId": "65e0b453-5592-4a72-a278-84d4b06a4bce"
      },
      "execution_count": null,
      "outputs": [
        {
          "output_type": "stream",
          "name": "stdout",
          "text": [
            "angka sekarang -> 0\n",
            "angka sekarang -> 1\n",
            "Agus ganteng maxsyimaal!\n",
            "angka sekarang -> 2\n",
            "Agus ganteng maxsyimaal!\n",
            "angka sekarang -> 3\n",
            "Agus ganteng maxsyimaal!\n",
            "angka sekarang -> 4\n",
            "Agus ganteng maxsyimaal!\n",
            "angka sekarang -> 5\n",
            "Agus ganteng maxsyimaal!\n",
            "cukuuup\n"
          ]
        }
      ]
    },
    {
      "cell_type": "markdown",
      "source": [
        "# Praktek Time"
      ],
      "metadata": {
        "id": "0BPhQ-jpRcvv"
      }
    },
    {
      "cell_type": "markdown",
      "source": [
        "**Soal No 1**\n",
        "\n",
        "Kalkulator Sederhana\n",
        "\n",
        "*   Buatlah program yang meminta pengguna untuk memasukkan dua angka dan operator aritmatika (+, -, *, /).\n",
        "*   Program kemudian menghitung hasil operasi berdasarkan input pengguna dan menampilkannya.\n",
        "*   Gunakan percabangan if-elif-else untuk menentukan operator yang digunakan."
      ],
      "metadata": {
        "id": "nMZpPJN3Rg2Y"
      }
    },
    {
      "cell_type": "code",
      "source": [
        "# Program Kalkulator Sederhana\n",
        "\n",
        "print(\"Kalkulator Sederhana\")\n",
        "print(\"Masukkan dua angka dan pilih operator (+, -, *, /):\")\n",
        "\n",
        "# Meminta input dari pengguna\n",
        "angka1 = float(input(\"Masukkan angka pertama: \"))\n",
        "angka2 = float(input(\"Masukkan angka kedua: \"))\n",
        "operator = input(\"Masukkan operator (+, -, *, /): \")\n",
        "\n",
        "# Menggunakan percabangan untuk menghitung berdasarkan operator\n",
        "if operator == '+':\n",
        "    hasil = angka1 + angka2\n",
        "    print(f\"Hasil: {angka1} + {angka2} = {hasil}\")\n",
        "elif operator == '-':\n",
        "    hasil = angka1 - angka2\n",
        "    print(f\"Hasil: {angka1} - {angka2} = {hasil}\")\n",
        "elif operator == '*':\n",
        "    hasil = angka1 * angka2\n",
        "    print(f\"Hasil: {angka1} * {angka2} = {hasil}\")\n",
        "elif operator == '/':\n",
        "    if angka2 != 0:  # Menghindari pembagian dengan nol\n",
        "        hasil = angka1 / angka2\n",
        "        print(f\"Hasil: {angka1} / {angka2} = {hasil}\")\n",
        "    else:\n",
        "        print(\"Error: Tidak dapat membagi dengan nol.\")\n",
        "else:\n",
        "    print(\"Operator tidak valid. Silakan coba lagi.\")\n",
        "\n",
        "print(\"Terima kasih telah menggunakan kalkulator ini!\")"
      ],
      "metadata": {
        "colab": {
          "base_uri": "https://localhost:8080/"
        },
        "id": "9A6kfmaUL0_I",
        "outputId": "6c43ddc1-f309-418b-8f51-04b77cb3d46e"
      },
      "execution_count": null,
      "outputs": [
        {
          "output_type": "stream",
          "name": "stdout",
          "text": [
            "Kalkulator Sederhana\n",
            "Masukkan dua angka dan pilih operator (+, -, *, /):\n",
            "Masukkan angka pertama: 14\n",
            "Masukkan angka kedua: 19\n",
            "Masukkan operator (+, -, *, /): /\n",
            "Hasil: 14.0 / 19.0 = 0.7368421052631579\n",
            "Terima kasih telah menggunakan kalkulator ini!\n"
          ]
        }
      ]
    },
    {
      "cell_type": "markdown",
      "source": [
        "**Soal No 2**\n",
        "\n",
        "Menampilkan Deret Fibonacci\n",
        "\n",
        "\n",
        "*   Buatlah program yang menampilkan deret Fibonacci hingga batas tertentu yang ditentukan oleh pengguna.\n",
        "*   Deret Fibonacci dimulai dengan 0 dan 1, dan setiap angka berikutnya adalah jumlah dari dua angka sebelumnya (0, 1, 1, 2, 3, 5, 8, ...).\n",
        "*   Gunakan perulangan for atau while untuk menghasilkan deret."
      ],
      "metadata": {
        "id": "2c4Afv4HSUCJ"
      }
    },
    {
      "cell_type": "code",
      "source": [
        "batas = int(input(\"Masukkan batas deret Fibonacci: \"))\n",
        "\n",
        "a, b = 0, 1\n",
        "\n",
        "if batas <= 0:\n",
        "  print(\"Masukkan batas yang lebih besar dari 0\")\n",
        "elif batas == 1:\n",
        "  print(a)\n",
        "else:\n",
        "  print(a)\n",
        "  print(b)\n",
        "  for i in range(2, batas):\n",
        "    c = a + b\n",
        "    a, b = b, c\n",
        "c"
      ],
      "metadata": {
        "colab": {
          "base_uri": "https://localhost:8080/"
        },
        "id": "EaQSGY4KKSIY",
        "outputId": "da46ed8a-2992-4cf6-cc6b-fefff86ec9d8"
      },
      "execution_count": null,
      "outputs": [
        {
          "output_type": "stream",
          "name": "stdout",
          "text": [
            "Masukkan batas deret Fibonacci: 7\n",
            "0\n",
            "1\n"
          ]
        },
        {
          "output_type": "execute_result",
          "data": {
            "text/plain": [
              "8"
            ]
          },
          "metadata": {},
          "execution_count": 2
        }
      ]
    },
    {
      "cell_type": "code",
      "source": [],
      "metadata": {
        "id": "7F1yiDKktLGm"
      },
      "execution_count": null,
      "outputs": []
    },
    {
      "cell_type": "markdown",
      "source": [
        "**Soal No 3**\n",
        "\n",
        "Mencari Nilai Maksimum dan Minimum dalam List\n",
        "\n",
        "\n",
        "\n",
        "*   Buatlah program yang meminta pengguna untuk memasukkan serangkaian angka dan menyimpannya dalam sebuah list.\n",
        "*   Program kemudian mencari nilai maksimum dan minimum dalam list tersebut dan menampilkannya.\n",
        "*   Gunakan fungsi max() dan min() untuk mencari nilai maksimum dan minimum."
      ],
      "metadata": {
        "id": "IX4Y7rabSwnX"
      }
    },
    {
      "cell_type": "code",
      "source": [
        "angka = []\n",
        "while True:\n",
        "    try:\n",
        "        bilangan = float(input(\"Masukkan angka (atau ketik 'selesai'): \"))\n",
        "        angka.append(bilangan)\n",
        "    except ValueError:\n",
        "        if input(\"Apakah anda ingin berhenti memasukkan angka (ya/tidak)? \").lower() == 'ya':\n",
        "            break\n",
        "        else:\n",
        "            continue\n",
        "\n",
        "if angka:\n",
        "    nilai_maksimum = max(angka)\n",
        "    nilai_minimum = min(angka)\n",
        "    print(\"Nilai maksimum:\", nilai_maksimum)\n",
        "    print(\"Nilai minimum:\", nilai_minimum)\n",
        "else:\n",
        "    print(\"Tidak ada angka yang dimasukkan.\")"
      ],
      "metadata": {
        "colab": {
          "base_uri": "https://localhost:8080/"
        },
        "id": "s0xRoqm_Ke92",
        "outputId": "dc537f5f-c9ba-4e4b-b27f-0dcba9fe7a45"
      },
      "execution_count": null,
      "outputs": [
        {
          "output_type": "stream",
          "name": "stdout",
          "text": [
            "Masukkan angka (atau ketik 'selesai'): 120\n",
            "Masukkan angka (atau ketik 'selesai'): 12\n",
            "Masukkan angka (atau ketik 'selesai'): 11\n",
            "Masukkan angka (atau ketik 'selesai'): 1\n",
            "Masukkan angka (atau ketik 'selesai'): selesai\n",
            "Apakah anda ingin berhenti memasukkan angka (ya/tidak)? ya\n",
            "Nilai maksimum: 120.0\n",
            "Nilai minimum: 1.0\n"
          ]
        }
      ]
    }
  ]
}